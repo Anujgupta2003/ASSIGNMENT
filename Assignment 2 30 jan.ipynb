{
 "cells": [
  {
   "cell_type": "code",
   "execution_count": 3,
   "id": "30014769-09f0-4822-ac2d-b7819984e66e",
   "metadata": {},
   "outputs": [
    {
     "name": "stdin",
     "output_type": "stream",
     "text": [
      "Enter marks 78\n"
     ]
    },
    {
     "name": "stdout",
     "output_type": "stream",
     "text": [
      "you have get D grade\n"
     ]
    }
   ],
   "source": [
    "marks=int(input(\"Enter marks\"))\n",
    "\n",
    "if marks>90:\n",
    "    print(\"You have get A grade\")\n",
    "elif marks>80 and marks<=90:\n",
    "    print(\"you have get B grade\")\n",
    "elif marks>=80 and marks<=60:\n",
    "    print(\"You have get C grade\")\n",
    "else:\n",
    "    print(\"you have get D grade\")"
   ]
  },
  {
   "cell_type": "code",
   "execution_count": 6,
   "id": "679c9627-10b9-497a-83b5-89f8ca08dcaf",
   "metadata": {},
   "outputs": [
    {
     "name": "stdin",
     "output_type": "stream",
     "text": [
      "Enter the costprice of a bike 2000\n"
     ]
    },
    {
     "name": "stdout",
     "output_type": "stream",
     "text": [
      "The road tax to be paid will be 5% on the costprice\n"
     ]
    }
   ],
   "source": [
    "costprice = int(input(\"Enter the costprice of a bike\"))\n",
    "\n",
    "if costprice>100000:\n",
    "    print(\"The road tax to be paid will be 15% on the costprice\")\n",
    "elif costprice>50000 and costprice<100000:\n",
    "    print(\"The road tax to be paid will be 10% on the costprice\")\n",
    "else:\n",
    "    print(\"The road tax to be paid will be 5% on the costprice\")"
   ]
  },
  {
   "cell_type": "code",
   "execution_count": 14,
   "id": "537737d0-d562-4776-a75b-b7f2d92f2223",
   "metadata": {},
   "outputs": [
    {
     "name": "stdin",
     "output_type": "stream",
     "text": [
      "enter the number 3\n"
     ]
    },
    {
     "name": "stdout",
     "output_type": "stream",
     "text": [
      "Divisible by 3\n"
     ]
    }
   ],
   "source": [
    "number =int(input(\"enter the number\"))\n",
    "\n",
    "if number<=10:\n",
    "    if number%3==0:\n",
    "        print(\"Divisible by 3\")\n",
    "    else:\n",
    "        print(\"not possible\")\n",
    "else:\n",
    "    print(\"not possible\")"
   ]
  },
  {
   "cell_type": "code",
   "execution_count": 3,
   "id": "898aabe7-92e2-4697-9663-f5824b534052",
   "metadata": {},
   "outputs": [
    {
     "name": "stdin",
     "output_type": "stream",
     "text": [
      "Enter the city name Agra\n"
     ]
    },
    {
     "name": "stdout",
     "output_type": "stream",
     "text": [
      "The monument is Taj mahal\n"
     ]
    }
   ],
   "source": [
    "city = str(input(\"Enter the city name\"))\n",
    "\n",
    "if city==\"delhi\":\n",
    "    print(\"The monument is Red Fort\")\n",
    "elif city==\"Agra\":\n",
    "    print(\"The monument is Taj mahal\")\n",
    "elif city==\"Jaipur\":\n",
    "    print(\"The monument is Jal mahal\")\n",
    "else:\n",
    "    print(\"city is not found\")"
   ]
  },
  {
   "cell_type": "code",
   "execution_count": 4,
   "id": "d04a1548-b0cd-4ba9-94ca-23c582758087",
   "metadata": {},
   "outputs": [
    {
     "name": "stdout",
     "output_type": "stream",
     "text": [
      "10\n",
      "9\n",
      "8\n",
      "7\n",
      "6\n",
      "5\n",
      "4\n",
      "3\n",
      "2\n",
      "1\n"
     ]
    }
   ],
   "source": [
    "i=10\n",
    "while i>0:\n",
    "    print(i)\n",
    "    i=i-1"
   ]
  },
  {
   "cell_type": "code",
   "execution_count": null,
   "id": "dad4456d-577a-427f-90d2-033e8022d5c7",
   "metadata": {},
   "outputs": [],
   "source": [
    "A while loop n python allows a part of acode to be executed repeatedly as long as a given condidtonis true.\n",
    "A python while loop condition consist of three parts:\n",
    "    1 A piece of code that need to be repeated over and over.\n",
    "    2 The while keyboard.\n",
    "    3 The condition that translate to either true or false."
   ]
  },
  {
   "cell_type": "code",
   "execution_count": 5,
   "id": "41d23ec6-94db-45fd-b809-b74cd622a209",
   "metadata": {},
   "outputs": [
    {
     "name": "stdout",
     "output_type": "stream",
     "text": [
      "1\n",
      "2\n",
      "3\n",
      "4\n"
     ]
    }
   ],
   "source": [
    "i=1\n",
    "while i<5:\n",
    "    print(i)\n",
    "    i=i+1"
   ]
  }
 ],
 "metadata": {
  "kernelspec": {
   "display_name": "Python 3 (ipykernel)",
   "language": "python",
   "name": "python3"
  },
  "language_info": {
   "codemirror_mode": {
    "name": "ipython",
    "version": 3
   },
   "file_extension": ".py",
   "mimetype": "text/x-python",
   "name": "python",
   "nbconvert_exporter": "python",
   "pygments_lexer": "ipython3",
   "version": "3.10.8"
  }
 },
 "nbformat": 4,
 "nbformat_minor": 5
}
