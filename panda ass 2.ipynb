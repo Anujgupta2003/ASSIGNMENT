{
 "cells": [
  {
   "cell_type": "code",
   "execution_count": null,
   "id": "9cd210ad-8a34-45f5-944f-277e20460ca2",
   "metadata": {},
   "outputs": [],
   "source": [
    "Q1 read_csv(): This function is used to read data from a CSV file into a pandas DataFrame.\n",
    "\n",
    "import pandas as pd\n",
    "\n",
    "# Read a CSV file into a DataFrame\n",
    "df = pd.read_csv('data.csv')\n",
    "head(): This function is used to display the first few rows of a DataFrame.\n",
    "\n",
    "# Display the first 5 rows of the DataFrame\n",
    "print(df.head())\n",
    "describe(): This function generates descriptive statistics of the DataFrame, such as count, mean, std deviation, min, max, etc.\n",
    "\n",
    "# Generate descriptive statistics of the DataFrame\n",
    "print(df.describe())\n",
    "groupby(): This function is used to group data in a DataFrame based on specified columns.\n",
    "\n",
    "# Group data based on the 'category' column and calculate the mean of other columns\n",
    "grouped_data = df.groupby('category').mean()\n",
    "print(grouped_data)\n",
    "to_csv(): This function is used to write a DataFrame to a CSV file.\n",
    "\n",
    "# Write the DataFrame to a CSV file\n",
    "df.to_csv('output.csv', index=False)"
   ]
  },
  {
   "cell_type": "code",
   "execution_count": null,
   "id": "1c4e7af3-696e-447d-b7e5-e8c007130d31",
   "metadata": {},
   "outputs": [],
   "source": [
    "Q2 You can achieve this by using the reset_index() function in pandas along with a custom index creation logic. Here's a Python function that accomplishes this task:\n",
    "import pandas as pd\n",
    "\n",
    "def reindex_dataframe(df):\n",
    "    # Reset the index of the DataFrame\n",
    "    df_reset_index = df.reset_index(drop=True)\n",
    "    \n",
    "    # Create a new index starting from 1 and incrementing by 2\n",
    "    new_index = pd.Series(range(1, len(df_reset_index)*2, 2))\n",
    "    \n",
    "    # Assign the new index to the DataFrame\n",
    "    df_reset_index.index = new_index\n",
    "    \n",
    "    return df_reset_index\n"
   ]
  },
  {
   "cell_type": "code",
   "execution_count": 1,
   "id": "16cb312f-a4a4-429b-9684-f47fdee2fd99",
   "metadata": {},
   "outputs": [],
   "source": [
    "import pandas as pd"
   ]
  },
  {
   "cell_type": "code",
   "execution_count": 7,
   "id": "129d414b-41eb-44b5-8426-854ea740febc",
   "metadata": {},
   "outputs": [
    {
     "name": "stdout",
     "output_type": "stream",
     "text": [
      "   values\n",
      "0      10\n",
      "1      20\n",
      "2      30\n",
      "3      40\n",
      "4      50\n"
     ]
    }
   ],
   "source": [
    "Q3 df=pd.DataFrame({\"values\":[10,20,30,40,50]})\n",
    "print(df)"
   ]
  },
  {
   "cell_type": "code",
   "execution_count": 14,
   "id": "4470b409-7993-4618-aff2-24066b6b8e80",
   "metadata": {},
   "outputs": [
    {
     "data": {
      "text/plain": [
       "60"
      ]
     },
     "execution_count": 14,
     "metadata": {},
     "output_type": "execute_result"
    }
   ],
   "source": [
    "df['values'].iloc[:3].sum()"
   ]
  },
  {
   "cell_type": "code",
   "execution_count": null,
   "id": "c7088c5c-5778-4f5a-bc2e-93fc0da2b6ea",
   "metadata": {},
   "outputs": [],
   "source": [
    "Q4 You can accomplish this by using the apply() function along with a lambda function to calculate the word count for each row in the 'Text' column. Here's a Python function that adds a new column 'Word_Count' to the DataFrame with the number of words in each row of the 'Text' column:\n",
    "import pandas as pd\n",
    "\n",
    "def add_word_count_column(df):\n",
    "    # Create a new column 'Word_Count' containing the number of words in each row of the 'Text' column\n",
    "    df['Word_Count'] = df['Text'].apply(lambda x: len(str(x).split()))\n",
    "\n",
    "    return df\n",
    "\n",
    "# Example usage:\n",
    "# Assuming df is your DataFrame with a column named 'Text'\n",
    "# df = pd.DataFrame({'Text': ['This is a sample text.', 'Another example', 'A third sentence']})\n",
    "# df = add_word_count_column(df)\n",
    "# print(df)"
   ]
  },
  {
   "cell_type": "code",
   "execution_count": null,
   "id": "5bbb4dae-7f3d-4847-819b-3c9b01ed3904",
   "metadata": {},
   "outputs": [],
   "source": [
    "Q5 \n",
    "In pandas, DataFrame.size and DataFrame.shape are two different attributes that provide information about the dimensions of a DataFrame, but they serve different purposes.\n",
    "\n",
    "DataFrame.size:\n",
    "\n",
    "DataFrame.size returns the total number of elements in the DataFrame, which is equivalent to the product of the number of rows and the number of columns.\n",
    "It counts all elements, including missing values (NaNs).\n",
    "It returns a single integer value representing the total size of the DataFrame.\n",
    "Example:\n",
    "import pandas as pd\n",
    "\n",
    "# Creating a DataFrame\n",
    "df = pd.DataFrame({'A': [1, 2, 3], 'B': [4, 5, 6]})\n",
    "\n",
    "print(df.size)  # Output: 6 (3 rows * 2 columns)\n",
    "DataFrame.shape:\n",
    "\n",
    "DataFrame.shape returns a tuple representing the dimensions of the DataFrame, where the first element is the number of rows and the second element is the number of columns.\n",
    "It does not count missing values (NaNs).\n",
    "It provides more detailed information about the structure of the DataFrame compared to DataFrame.size.\n",
    "Example:\n",
    "\n",
    "import pandas as pd\n",
    "\n",
    "# Creating a DataFrame\n",
    "df = pd.DataFrame({'A': [1, 2, 3], 'B': [4, 5, 6]})\n",
    "\n",
    "print(df.shape)  # Output: (3, 2) (3 rows, 2 columns)"
   ]
  },
  {
   "cell_type": "code",
   "execution_count": null,
   "id": "6156b977-e977-4f99-946e-67d3bc9f010a",
   "metadata": {},
   "outputs": [],
   "source": [
    "Q6 In pandas, the function used to read an Excel file is pd.read_excel(). This function reads the data from an Excel file into a pandas DataFrame.\n",
    "\n",
    "Here's how you can use it:\n",
    "\n",
    "\n",
    "import pandas as pd\n",
    "\n",
    "# Read an Excel file into a DataFrame\n",
    "df = pd.read_excel('example.xlsx')\n",
    "\n",
    "# Now you can work with the DataFrame 'df'"
   ]
  },
  {
   "cell_type": "code",
   "execution_count": null,
   "id": "1c338907-1673-472f-94d5-9dab8297987c",
   "metadata": {},
   "outputs": [],
   "source": [
    "Q7 You can achieve this by using the str.split() method along with a lambda function to split each email address at the '@' symbol and then accessing the first part of the split (i.e., the username). Here's a Python function that adds a new column 'Username' to the DataFrame by extracting the username from the 'Email' column:\n",
    "\n",
    "import pandas as pd\n",
    "\n",
    "def extract_username(df):\n",
    "    # Extract the username from each email address and store it in the 'Username' column\n",
    "    df['Username'] = df['Email'].apply(lambda x: x.split('@')[0])\n",
    "\n",
    "    return df\n",
    "\n",
    "# Example usage:\n",
    "# Assuming df is your DataFrame with a column named 'Email'\n",
    "# df = pd.DataFrame({'Email': ['john.doe@example.com', 'jane.smith@example.com']})\n",
    "# df = extract_username(df)\n",
    "# print(df)"
   ]
  },
  {
   "cell_type": "code",
   "execution_count": 33,
   "id": "2fbb8058-1397-4f38-a20b-d4f1da1541bd",
   "metadata": {},
   "outputs": [],
   "source": [
    "Q8 import pandas as pd"
   ]
  },
  {
   "cell_type": "code",
   "execution_count": 32,
   "id": "8c189c81-e867-447d-8d8b-9fa08cd3f009",
   "metadata": {},
   "outputs": [
    {
     "name": "stdout",
     "output_type": "stream",
     "text": [
      "   A  B  C\n",
      "0  3  5  1\n",
      "1  8  2  7\n",
      "2  6  9  4\n",
      "3  2  3  5\n",
      "4  9  1  2\n"
     ]
    },
    {
     "data": {
      "text/plain": [
       "A    9\n",
       "B    1\n",
       "C    2\n",
       "Name: 4, dtype: int64"
      ]
     },
     "execution_count": 32,
     "metadata": {},
     "output_type": "execute_result"
    }
   ],
   "source": [
    "df=pd.DataFrame({\"A\":[3,8,6,2,9],\"B\":[5,2,9,3,1],\"C\":[1,7,4,5,2]})\n",
    "print(df)\n",
    "df.loc[1]\n",
    "df.loc[4]"
   ]
  },
  {
   "cell_type": "code",
   "execution_count": 34,
   "id": "86974fcb-f471-4259-b346-b2506e4c10da",
   "metadata": {},
   "outputs": [],
   "source": [
    "Q9 import pandas as pd"
   ]
  },
  {
   "cell_type": "code",
   "execution_count": 37,
   "id": "935444ce-e986-4455-b03b-7b502e6f9eff",
   "metadata": {},
   "outputs": [
    {
     "name": "stdout",
     "output_type": "stream",
     "text": [
      "   values\n",
      "0      10\n",
      "1      20\n",
      "2      30\n",
      "3      40\n",
      "4      50\n"
     ]
    },
    {
     "data": {
      "text/html": [
       "<div>\n",
       "<style scoped>\n",
       "    .dataframe tbody tr th:only-of-type {\n",
       "        vertical-align: middle;\n",
       "    }\n",
       "\n",
       "    .dataframe tbody tr th {\n",
       "        vertical-align: top;\n",
       "    }\n",
       "\n",
       "    .dataframe thead th {\n",
       "        text-align: right;\n",
       "    }\n",
       "</style>\n",
       "<table border=\"1\" class=\"dataframe\">\n",
       "  <thead>\n",
       "    <tr style=\"text-align: right;\">\n",
       "      <th></th>\n",
       "      <th>A</th>\n",
       "      <th>B</th>\n",
       "      <th>C</th>\n",
       "    </tr>\n",
       "  </thead>\n",
       "  <tbody>\n",
       "    <tr>\n",
       "      <th>count</th>\n",
       "      <td>5.00000</td>\n",
       "      <td>5.000000</td>\n",
       "      <td>5.000000</td>\n",
       "    </tr>\n",
       "    <tr>\n",
       "      <th>mean</th>\n",
       "      <td>5.60000</td>\n",
       "      <td>4.000000</td>\n",
       "      <td>3.800000</td>\n",
       "    </tr>\n",
       "    <tr>\n",
       "      <th>std</th>\n",
       "      <td>3.04959</td>\n",
       "      <td>3.162278</td>\n",
       "      <td>2.387467</td>\n",
       "    </tr>\n",
       "    <tr>\n",
       "      <th>min</th>\n",
       "      <td>2.00000</td>\n",
       "      <td>1.000000</td>\n",
       "      <td>1.000000</td>\n",
       "    </tr>\n",
       "    <tr>\n",
       "      <th>25%</th>\n",
       "      <td>3.00000</td>\n",
       "      <td>2.000000</td>\n",
       "      <td>2.000000</td>\n",
       "    </tr>\n",
       "    <tr>\n",
       "      <th>50%</th>\n",
       "      <td>6.00000</td>\n",
       "      <td>3.000000</td>\n",
       "      <td>4.000000</td>\n",
       "    </tr>\n",
       "    <tr>\n",
       "      <th>75%</th>\n",
       "      <td>8.00000</td>\n",
       "      <td>5.000000</td>\n",
       "      <td>5.000000</td>\n",
       "    </tr>\n",
       "    <tr>\n",
       "      <th>max</th>\n",
       "      <td>9.00000</td>\n",
       "      <td>9.000000</td>\n",
       "      <td>7.000000</td>\n",
       "    </tr>\n",
       "  </tbody>\n",
       "</table>\n",
       "</div>"
      ],
      "text/plain": [
       "             A         B         C\n",
       "count  5.00000  5.000000  5.000000\n",
       "mean   5.60000  4.000000  3.800000\n",
       "std    3.04959  3.162278  2.387467\n",
       "min    2.00000  1.000000  1.000000\n",
       "25%    3.00000  2.000000  2.000000\n",
       "50%    6.00000  3.000000  4.000000\n",
       "75%    8.00000  5.000000  5.000000\n",
       "max    9.00000  9.000000  7.000000"
      ]
     },
     "execution_count": 37,
     "metadata": {},
     "output_type": "execute_result"
    }
   ],
   "source": [
    "df2=pd.DataFrame({\"values\":[10,20,30,40,50]})\n",
    "print(df2)\n",
    "df.describe()"
   ]
  },
  {
   "cell_type": "code",
   "execution_count": null,
   "id": "ae46a632-aabc-42ef-8eb9-67e4dc630b70",
   "metadata": {},
   "outputs": [],
   "source": [
    "Q10\n",
    "You can accomplish this using the rolling() function in pandas to compute the rolling window of the desired size (7 days in this case) and then applying the mean() function to calculate the moving average. Here's how you can do it:\n",
    "import pandas as pd\n",
    "\n",
    "def add_moving_average_column(df):\n",
    "    # Convert the 'Date' column to datetime format\n",
    "    df['Date'] = pd.to_datetime(df['Date'])\n",
    "\n",
    "    # Sort the DataFrame by date if it's not already sorted\n",
    "    df = df.sort_values(by='Date')\n",
    "\n",
    "    # Calculate the moving average using a rolling window of size 7 and including the current day\n",
    "    df['MovingAverage'] = df['Sales'].rolling(window=7, min_periods=1).mean()\n",
    "\n",
    "    return df\n"
   ]
  },
  {
   "cell_type": "code",
   "execution_count": null,
   "id": "9b171062-6499-43b3-a31d-0d308efbd53c",
   "metadata": {},
   "outputs": [],
   "source": [
    "Q11 You can achieve this by using the dt.strftime() method in pandas to format the 'Date' column as the weekday name. Here's a Python function that adds a new column 'Weekday' to the DataFrame with the weekday name corresponding to each date in the 'Date' column:\n",
    "import pandas as pd\n",
    "\n",
    "def add_weekday_column(df):\n",
    "    # Convert the 'Date' column to datetime format\n",
    "    df['Date'] = pd.to_datetime(df['Date'])\n",
    "\n",
    "    # Add a new column 'Weekday' containing the weekday name\n",
    "    df['Weekday'] = df['Date'].dt.strftime('%A')\n",
    "\n",
    "    return df\n"
   ]
  },
  {
   "cell_type": "code",
   "execution_count": null,
   "id": "fd322012-c835-4b14-a77a-1a1c148ff4a9",
   "metadata": {},
   "outputs": [],
   "source": [
    "Q12 You can achieve this by first converting the 'Date' column to datetime format and then using boolean indexing to select the rows where the date falls within the specified range. Here's a Python function that selects all rows from the DataFrame where the date is between '2023-01-01' and '2023-01-31':\n",
    "import pandas as pd\n",
    "\n",
    "def select_rows_between_dates(df):\n",
    "    # Convert the 'Date' column to datetime format\n",
    "    df['Date'] = pd.to_datetime(df['Date'])\n",
    "    \n",
    "    # Define the start and end dates\n",
    "    start_date = '2023-01-01'\n",
    "    end_date = '2023-01-31'\n",
    "    \n",
    "    # Use boolean indexing to select rows between the specified dates\n",
    "    selected_rows = df[(df['Date'] >= start_date) & (df['Date'] <= end_date)]\n",
    "    \n",
    "    return selected_rows\n"
   ]
  },
  {
   "cell_type": "code",
   "execution_count": null,
   "id": "a15566bb-3d62-440d-95e8-1ffdb432eb1b",
   "metadata": {},
   "outputs": [],
   "source": [
    "Q13 "
   ]
  },
  {
   "cell_type": "code",
   "execution_count": null,
   "id": "e9f96a0b-9d2e-4131-990f-88d9832264fb",
   "metadata": {},
   "outputs": [],
   "source": []
  }
 ],
 "metadata": {
  "kernelspec": {
   "display_name": "Python 3 (ipykernel)",
   "language": "python",
   "name": "python3"
  },
  "language_info": {
   "codemirror_mode": {
    "name": "ipython",
    "version": 3
   },
   "file_extension": ".py",
   "mimetype": "text/x-python",
   "name": "python",
   "nbconvert_exporter": "python",
   "pygments_lexer": "ipython3",
   "version": "3.10.8"
  }
 },
 "nbformat": 4,
 "nbformat_minor": 5
}
