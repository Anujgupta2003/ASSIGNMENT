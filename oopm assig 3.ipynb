{
 "cells": [
  {
   "cell_type": "code",
   "execution_count": 1,
   "id": "b950aa8d-e7f4-4d3c-83fc-3546b29666f5",
   "metadata": {},
   "outputs": [
    {
     "name": "stdout",
     "output_type": "stream",
     "text": [
      "Name of Vehicle: Toyota Camry\n",
      "Max Speed: 150\n",
      "Average of Vehicle: 30\n"
     ]
    }
   ],
   "source": [
    "class Vehicle:\n",
    "    def __init__(self, name_of_vehicle, max_speed, average_of_vehicle):\n",
    "        self.name_of_vehicle = name_of_vehicle\n",
    "        self.max_speed = max_speed\n",
    "        self.average_of_vehicle = average_of_vehicle\n",
    "\n",
    "# Example usage:\n",
    "car = Vehicle(\"Toyota Camry\", 150, 30)\n",
    "print(\"Name of Vehicle:\", car.name_of_vehicle)\n",
    "print(\"Max Speed:\", car.max_speed)\n",
    "print(\"Average of Vehicle:\", car.average_of_vehicle)"
   ]
  },
  {
   "cell_type": "code",
   "execution_count": 2,
   "id": "61b8c73a-c395-485e-8c26-3c198c5ca919",
   "metadata": {},
   "outputs": [
    {
     "name": "stdout",
     "output_type": "stream",
     "text": [
      "Toyota Camry has a seating capacity of 5 people.\n"
     ]
    }
   ],
   "source": [
    "class Vehicle:\n",
    "    def __init__(self, name_of_vehicle, max_speed, average_of_vehicle):\n",
    "        self.name_of_vehicle = name_of_vehicle\n",
    "        self.max_speed = max_speed\n",
    "        self.average_of_vehicle = average_of_vehicle\n",
    "\n",
    "class Car(Vehicle):\n",
    "    def __init__(self, name_of_vehicle, max_speed, average_of_vehicle):\n",
    "        super().__init__(name_of_vehicle, max_speed, average_of_vehicle)\n",
    "    \n",
    "    def seating_capacity(self, capacity):\n",
    "        return f\"{self.name_of_vehicle} has a seating capacity of {capacity} people.\"\n",
    "\n",
    "# Example usage:\n",
    "car = Car(\"Toyota Camry\", 150, 30)\n",
    "print(car.seating_capacity(5))  # Output: Toyota Camry has a seating capacity of 5 people."
   ]
  },
  {
   "cell_type": "code",
   "execution_count": null,
   "id": "9fbfcc65-f85a-4d74-bdca-640c120624d6",
   "metadata": {},
   "outputs": [],
   "source": [
    "Q3 Multiple inheritance is a feature of some object-oriented programming languages, including Python, where a class can inherit attributes and methods from more than one parent class. This means a child class can have multiple parent classes, and it inherits features from all of them.\n",
    "\n",
    "Here's an example Python code demonstrating multiple inheritance:\n",
    "\n",
    "class Animal:\n",
    "    def speak(self):\n",
    "        return \"Animal speaks\"\n",
    "\n",
    "class Dog(Animal):\n",
    "    def speak(self):\n",
    "        return \"Dog barks\"\n",
    "\n",
    "class Cat(Animal):\n",
    "    def speak(self):\n",
    "        return \"Cat meows\"\n",
    "\n",
    "class DogCat(Dog, Cat):\n",
    "    pass\n",
    "\n",
    "# Creating an instance of DogCat\n",
    "dc = DogCat()\n",
    "\n",
    "# Calling the speak method from DogCat instance\n",
    "print(dc.speak())  # Output: Dog barks"
   ]
  },
  {
   "cell_type": "code",
   "execution_count": null,
   "id": "7c64f608-0661-48be-a4ff-ddd19c491994",
   "metadata": {},
   "outputs": [],
   "source": [
    "Q4 In Python, getter and setter methods are used to encapsulate the access and modification of instance variables within a class. They provide a way to control access to the variables and enforce data encapsulation, allowing validation and modification of data before it is accessed or modified.\n",
    "\n",
    "A getter method retrieves the value of an instance variable.\n",
    "A setter method modifies the value of an instance variable.\n",
    "Here's an example Python class demonstrating a getter and a setter method:\n",
    "\n",
    "class MyClass:\n",
    "    def __init__(self):\n",
    "        self._my_variable = None  # Initialize the variable with None\n",
    "    \n",
    "    # Getter method\n",
    "    def get_my_variable(self):\n",
    "        return self._my_variable\n",
    "    \n",
    "    # Setter method\n",
    "    def set_my_variable(self, value):\n",
    "        # Perform any validation or modification here if needed\n",
    "        self._my_variable = value\n",
    "\n",
    "# Creating an instance of MyClass\n",
    "obj = MyClass()\n",
    "\n",
    "# Using the setter method to set the value\n",
    "obj.set_my_variable(10)\n",
    "\n",
    "# Using the getter method to retrieve the value\n",
    "print(obj.get_my_variable())  # Output: 10"
   ]
  },
  {
   "cell_type": "code",
   "execution_count": null,
   "id": "0402d725-3eb4-4ae9-90fe-b3b83daf2949",
   "metadata": {},
   "outputs": [],
   "source": [
    "Q5 Method overriding is a concept in object-oriented programming where a subclass provides a specific implementation of a method that is already defined in its superclass. This allows the subclass to customize or extend the behavior of the method while maintaining the same method signature as the superclass.\n",
    "\n",
    "Here's an example Python code demonstrating method overriding:\n",
    "\n",
    "class Animal:\n",
    "    def make_sound(self):\n",
    "        return \"Animal makes a sound\"\n",
    "\n",
    "class Dog(Animal):\n",
    "    def make_sound(self):\n",
    "        return \"Dog barks\"\n",
    "\n",
    "class Cat(Animal):\n",
    "    def make_sound(self):\n",
    "        return \"Cat meows\"\n",
    "\n",
    "# Creating instances of subclasses\n",
    "dog = Dog()\n",
    "cat = Cat()\n",
    "\n",
    "# Calling the overridden method for each subclass\n",
    "print(dog.make_sound())  # Output: Dog barks\n",
    "print(cat.make_sound())  # Output: Cat meows"
   ]
  }
 ],
 "metadata": {
  "kernelspec": {
   "display_name": "Python 3 (ipykernel)",
   "language": "python",
   "name": "python3"
  },
  "language_info": {
   "codemirror_mode": {
    "name": "ipython",
    "version": 3
   },
   "file_extension": ".py",
   "mimetype": "text/x-python",
   "name": "python",
   "nbconvert_exporter": "python",
   "pygments_lexer": "ipython3",
   "version": "3.10.8"
  }
 },
 "nbformat": 4,
 "nbformat_minor": 5
}
