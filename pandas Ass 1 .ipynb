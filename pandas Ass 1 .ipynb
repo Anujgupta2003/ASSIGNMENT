{
 "cells": [
  {
   "cell_type": "code",
   "execution_count": 1,
   "id": "a3fa7e83-71dc-4f62-b1a6-31f0f2cdabee",
   "metadata": {},
   "outputs": [],
   "source": [
    "import pandas as pd"
   ]
  },
  {
   "cell_type": "code",
   "execution_count": 4,
   "id": "394105ff-0efb-4748-adcd-91b31acb7875",
   "metadata": {},
   "outputs": [
    {
     "name": "stdout",
     "output_type": "stream",
     "text": [
      "0     4\n",
      "1     8\n",
      "2    15\n",
      "3    16\n",
      "4    23\n",
      "5    42\n",
      "dtype: int64\n"
     ]
    }
   ],
   "source": [
    " Q1 list=[4,8,15,16,23,42]\n",
    "Series=pd.Series(list)\n",
    "print(Series)"
   ]
  },
  {
   "cell_type": "code",
   "execution_count": 8,
   "id": "00fbb88b-9a8f-4cdf-a271-540e8654a0ad",
   "metadata": {},
   "outputs": [
    {
     "name": "stdout",
     "output_type": "stream",
     "text": [
      "0     1\n",
      "1     2\n",
      "2     3\n",
      "3     4\n",
      "4     5\n",
      "5     6\n",
      "6     7\n",
      "7     8\n",
      "8     9\n",
      "9    10\n",
      "dtype: int64\n"
     ]
    }
   ],
   "source": [
    "Q2 list=[1,2,3,4,5,6,7,8,9,10]\n",
    "Series=pd.Series(list)\n",
    "print(Series)"
   ]
  },
  {
   "cell_type": "code",
   "execution_count": 4,
   "id": "c81bed81-f5dc-44d1-9034-1d975e1d813b",
   "metadata": {},
   "outputs": [],
   "source": [
    "Q3 df=pd.DataFrame({\"name\":[\"alice\",\"bob\",\"claire\"],\"age\":[25,30,27],\"gender\":[\"female\",\"male\",\"female\"]})"
   ]
  },
  {
   "cell_type": "code",
   "execution_count": 5,
   "id": "519cccdd-62cd-40ce-bc01-697f0ce63859",
   "metadata": {},
   "outputs": [
    {
     "name": "stdout",
     "output_type": "stream",
     "text": [
      "     name  age  gender\n",
      "0   alice   25  female\n",
      "1     bob   30    male\n",
      "2  claire   27  female\n"
     ]
    }
   ],
   "source": [
    "print(df)"
   ]
  },
  {
   "cell_type": "code",
   "execution_count": null,
   "id": "ddc2f0bb-8642-47f9-9e69-2c2910890c0e",
   "metadata": {},
   "outputs": [],
   "source": [
    "Q4 In Pandas, a DataFrame is a two-dimensional labeled data structure that consists of rows and columns. It is similar to a spreadsheet or SQL table, where each column can contain different types of data (e.g., integers, floats, strings) and is identified by a unique label. A DataFrame can be created using various data sources such as dictionaries, lists, NumPy arrays, or by reading data from external files like CSV, Excel, or SQL databases.\n",
    "\n",
    "On the other hand, a pandas Series is a one-dimensional labeled array capable of holding data of any type. It is similar to a single column or row in a DataFrame. Each element in a Series has a label called an index, which is used to access and manipulate data. Series can be created from various data sources similar to DataFrames."
   ]
  },
  {
   "cell_type": "code",
   "execution_count": null,
   "id": "6e06c334-5198-4e33-9372-8af516606a73",
   "metadata": {},
   "outputs": [],
   "source": [
    "Q5 There are many common functions and methods available in Pandas for manipulating data in a DataFrame. Some of the most commonly used ones include:\n",
    "\n",
    "head() and tail(): These functions allow you to view the first or last few rows of the DataFrame, respectively. They are often used to quickly inspect the structure and contents of the DataFrame.\n",
    "\n",
    "info(): This method provides a concise summary of the DataFrame, including the data types, non-null counts, and memory usage. It is useful for getting an overview of the DataFrame's structure and identifying missing values.\n",
    "\n",
    "describe(): This method generates descriptive statistics for numerical columns in the DataFrame, such as count, mean, standard deviation, minimum, maximum, and quartile values. It provides insights into the distribution and central tendency of the data.\n",
    "\n",
    "shape: This attribute returns a tuple representing the dimensions of the DataFrame (number of rows, number of columns). It is often used to check the size of the DataFrame.\n",
    "\n",
    "unique(): This method returns an array of unique values in a column of the DataFrame. It is useful for identifying distinct values in categorical variables.\n",
    "\n",
    "value_counts(): This method counts the occurrences of unique values in a column and returns the results as a Series in descending order. It is commonly used to analyze the frequency distribution of categorical variables.\n",
    "\n",
    "drop(): This method allows you to remove rows or columns from the DataFrame based on labels or index. It is used to eliminate unnecessary or redundant data.\n",
    "\n",
    "fillna(): This method is used to fill missing values (NaN or None) in the DataFrame with specified values, such as a constant, mean, median, or forward/backward fill.\n",
    "\n",
    "groupby(): This method is used to group data in the DataFrame based on one or more columns and perform operations (e.g., aggregation, transformation) on each group separately.\n",
    "\n",
    "merge(): This function is used to merge two DataFrames based on common columns or indices, similar to SQL join operations."
   ]
  },
  {
   "cell_type": "code",
   "execution_count": null,
   "id": "f6f3d76e-6fea-495d-bd2e-a41114f34ed1",
   "metadata": {},
   "outputs": [],
   "source": [
    "Q6 \n",
    "Among Series, DataFrame, and Panel in Pandas:\n",
    "\n",
    "Series: Mutable\n",
    "DataFrame: Mutable\n",
    "Panel: Immutable\n",
    "Both Series and DataFrame are mutable, meaning you can modify their contents after creation by changing values, adding or removing rows or columns, etc.\n",
    "\n",
    "On the other hand, Panel is considered immutable. This means that once created, its contents cannot be changed. However, you can still perform operations that return modified views or copies of the original Panel."
   ]
  },
  {
   "cell_type": "code",
   "execution_count": null,
   "id": "ef2fa8a7-7a45-4a35-98e6-9ac6568ccae7",
   "metadata": {},
   "outputs": [],
   "source": [
    "Q7 You can create a DataFrame using multiple Series by passing the Series objects as a dictionary to the pd.DataFrame() constructor. Each Series will become a column in the DataFrame, and the index of the DataFrame will be the union of the indices of the Series.\n",
    "\n",
    "Here's an example:\n",
    "import pandas as pd\n",
    "\n",
    "# Creating multiple Series\n",
    "series1 = pd.Series([1, 2, 3], index=['a', 'b', 'c'])\n",
    "series2 = pd.Series([4, 5, 6], index=['a', 'b', 'd'])\n",
    "\n",
    "# Creating DataFrame using multiple Series\n",
    "df = pd.DataFrame({'Column1': series1, 'Column2': series2})\n",
    "\n",
    "# Printing the DataFrame\n",
    "print(df)\n",
    "\n",
    "   Column1  Column2\n",
    "a      1.0        4\n",
    "b      2.0        5\n",
    "c      3.0      NaN\n",
    "d      NaN        6"
   ]
  },
  {
   "cell_type": "code",
   "execution_count": null,
   "id": "ceed2b47-9cdb-4875-a05a-d7fd5a205fe2",
   "metadata": {},
   "outputs": [],
   "source": []
  }
 ],
 "metadata": {
  "kernelspec": {
   "display_name": "Python 3 (ipykernel)",
   "language": "python",
   "name": "python3"
  },
  "language_info": {
   "codemirror_mode": {
    "name": "ipython",
    "version": 3
   },
   "file_extension": ".py",
   "mimetype": "text/x-python",
   "name": "python",
   "nbconvert_exporter": "python",
   "pygments_lexer": "ipython3",
   "version": "3.10.8"
  }
 },
 "nbformat": 4,
 "nbformat_minor": 5
}
