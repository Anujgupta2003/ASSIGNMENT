{
 "cells": [
  {
   "cell_type": "markdown",
   "id": "f7896e81-eba5-4d54-9f7e-5860a10b7f90",
   "metadata": {},
   "source": [
    "Q1  Guido Van Rossum"
   ]
  },
  {
   "cell_type": "code",
   "execution_count": null,
   "id": "118e3cca-d2f3-47d7-a50d-a1b9951f5860",
   "metadata": {},
   "outputs": [],
   "source": [
    "Q2 Object Oriented and structured programming"
   ]
  },
  {
   "cell_type": "code",
   "execution_count": null,
   "id": "3c4c9096-cb15-4683-9562-ae77e4fc876f",
   "metadata": {},
   "outputs": [],
   "source": [
    "Q3 Yes,Python is case sensitive language"
   ]
  },
  {
   "cell_type": "markdown",
   "id": "0acc3e0d-f764-41f2-b7c1-57c4a617700e",
   "metadata": {},
   "source": [
    "Q4 .py"
   ]
  },
  {
   "cell_type": "markdown",
   "id": "b5ce6e0c-09c4-4524-abd9-5ab2f592c4cd",
   "metadata": {},
   "source": [
    "Q5 Python is interpreted language"
   ]
  },
  {
   "cell_type": "markdown",
   "id": "12929efc-345e-4689-8ab6-daa61a0cf553",
   "metadata": {},
   "source": [
    "Q6"
   ]
  },
  {
   "cell_type": "markdown",
   "id": "26dfe45e-7f94-4281-afce-7bbafff1c033",
   "metadata": {},
   "source": [
    "Q7 #"
   ]
  },
  {
   "cell_type": "markdown",
   "id": "9d73473d-6ae5-4df4-ae7c-2afa4ace3745",
   "metadata": {},
   "source": [
    "Q8 sys.version"
   ]
  },
  {
   "cell_type": "code",
   "execution_count": null,
   "id": "eb7d734f-7fe0-45be-8c8d-e386365c7f93",
   "metadata": {},
   "outputs": [],
   "source": [
    "Q9 lamda"
   ]
  },
  {
   "cell_type": "markdown",
   "id": "a553a656-ade7-4861-9e8b-d14c6692ad6e",
   "metadata": {},
   "source": [
    "Q10 pip installed packages"
   ]
  },
  {
   "cell_type": "markdown",
   "id": "83a1fc45-3d2d-4c60-814f-05a8ccfee80d",
   "metadata": {},
   "source": [
    "Q11 print() function prints the iven object to standard output device"
   ]
  },
  {
   "cell_type": "markdown",
   "id": "be08a003-b9a6-4c8e-99e2-4010c28570de",
   "metadata": {},
   "source": [
    "Q12 79 character"
   ]
  },
  {
   "cell_type": "markdown",
   "id": "42b1681d-548a-48b6-a582-73dc943c4c35",
   "metadata": {},
   "source": [
    "Q13 python libraries"
   ]
  },
  {
   "cell_type": "markdown",
   "id": "951b304e-0f83-451e-b6e2-8447a9da59d3",
   "metadata": {},
   "source": [
    "Q14  Involve a private heap containing all python objects and data structure"
   ]
  },
  {
   "cell_type": "markdown",
   "id": "8625d59b-33db-4689-8976-c28bf2850e6c",
   "metadata": {},
   "source": [
    "Q15 1] Right clicking this pc and going to properties.\n",
    "    2] clicking the advanced system settings in the menu on the left."
   ]
  },
  {
   "cell_type": "markdown",
   "id": "f63446af-575a-4f5a-af33-21d6248339dc",
   "metadata": {},
   "source": [
    "Q16 The indentation in python is very important"
   ]
  }
 ],
 "metadata": {
  "kernelspec": {
   "display_name": "Python 3 (ipykernel)",
   "language": "python",
   "name": "python3"
  },
  "language_info": {
   "codemirror_mode": {
    "name": "ipython",
    "version": 3
   },
   "file_extension": ".py",
   "mimetype": "text/x-python",
   "name": "python",
   "nbconvert_exporter": "python",
   "pygments_lexer": "ipython3",
   "version": "3.10.8"
  }
 },
 "nbformat": 4,
 "nbformat_minor": 5
}
