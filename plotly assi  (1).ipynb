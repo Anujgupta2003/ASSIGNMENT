{
 "cells": [
  {
   "cell_type": "code",
   "execution_count": null,
   "id": "97cba57c-d56b-4f27-b7fd-7d7b8044fceb",
   "metadata": {},
   "outputs": [],
   "source": [
    "Q1 import seaborn as sns\n",
    "import plotly.express as px\n",
    "\n",
    "# Load the Titanic dataset using Seaborn\n",
    "titanic_df = sns.load_dataset('titanic')\n",
    "\n",
    "# Create a scatter plot using Plotly Express\n",
    "scatter_plot = px.scatter(titanic_df, x='age', y='fare', title='Titanic Dataset Scatter Plot',\n",
    "                          labels={'age': 'Age', 'fare': 'Fare'})\n",
    "\n",
    "# Show the plot\n",
    "scatter_plot.show()"
   ]
  },
  {
   "cell_type": "code",
   "execution_count": null,
   "id": "740104cb-31ff-41a1-884d-f52791a8a6f8",
   "metadata": {},
   "outputs": [],
   "source": [
    "Q2 import plotly.express as px\n",
    "\n",
    "# Load the tips dataset from Plotly's built-in datasets\n",
    "tips_df = px.data.tips()\n",
    "\n",
    "# Create a box plot using Plotly Express\n",
    "box_plot = px.box(tips_df, x='day', y='total_bill', title='Box Plot of Total Bill by Day',\n",
    "                  labels={'day': 'Day of the Week', 'total_bill': 'Total Bill Amount'})\n",
    "\n",
    "# Show the plot\n",
    "box_plot.show()"
   ]
  },
  {
   "cell_type": "code",
   "execution_count": null,
   "id": "7e45c812-0412-4eb0-bc9b-ade9b4303fac",
   "metadata": {},
   "outputs": [],
   "source": [
    "Q3 import plotly.express as px\n",
    "\n",
    "# Load the tips dataset from Plotly's built-in datasets\n",
    "tips_df = px.data.tips()\n",
    "\n",
    "# Create a histogram using Plotly Express\n",
    "histogram = px.histogram(tips_df, x=\"sex\", y=\"total_bill\", color=\"day\", pattern_shape=\"smoker\",\n",
    "                         title=\"Histogram of Total Bill by Sex\",\n",
    "                         labels={'sex': 'Sex', 'total_bill': 'Total Bill Amount', 'day': 'Day of the Week'},\n",
    "                         marginal=\"rug\")\n",
    "\n",
    "# Show the plot\n",
    "histogram.show()"
   ]
  },
  {
   "cell_type": "code",
   "execution_count": null,
   "id": "ae7c3930-f9c8-44e0-ada4-e1a98507de43",
   "metadata": {},
   "outputs": [],
   "source": [
    "Q4 import plotly.express as px\n",
    "\n",
    "# Load the iris dataset from Plotly's built-in datasets\n",
    "iris_df = px.data.iris()\n",
    "\n",
    "# Create a scatter matrix plot using Plotly Express\n",
    "scatter_matrix = px.scatter_matrix(iris_df, dimensions=['sepal_length', 'sepal_width', 'petal_length', 'petal_width'],\n",
    "                                   color='species', title='Scatter Matrix Plot of Iris Dataset')\n",
    "\n",
    "# Show the plot\n",
    "scatter_matrix.show()"
   ]
  },
  {
   "cell_type": "code",
   "execution_count": null,
   "id": "7ed9a831-7bd9-4fd6-bcae-5800d81b28b4",
   "metadata": {},
   "outputs": [],
   "source": [
    "Q5 import plotly.express as px\n",
    "\n",
    "# Load the tips dataset from Plotly's built-in datasets\n",
    "tips_df = px.data.tips()\n",
    "\n",
    "# Create a distplot using Plotly Express\n",
    "distplot = px.histogram(tips_df, x=\"total_bill\", marginal=\"box\", title=\"Distribution of Total Bill\")\n",
    "\n",
    "# Show the plot\n",
    "distplot.show()\n"
   ]
  },
  {
   "cell_type": "code",
   "execution_count": null,
   "id": "a7cbdcb2-3483-417d-96fe-7d24d2900fb8",
   "metadata": {},
   "outputs": [],
   "source": []
  }
 ],
 "metadata": {
  "kernelspec": {
   "display_name": "Python 3 (ipykernel)",
   "language": "python",
   "name": "python3"
  },
  "language_info": {
   "codemirror_mode": {
    "name": "ipython",
    "version": 3
   },
   "file_extension": ".py",
   "mimetype": "text/x-python",
   "name": "python",
   "nbconvert_exporter": "python",
   "pygments_lexer": "ipython3",
   "version": "3.10.8"
  }
 },
 "nbformat": 4,
 "nbformat_minor": 5
}
